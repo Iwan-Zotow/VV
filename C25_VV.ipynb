{
 "cells": [
  {
   "cell_type": "markdown",
   "metadata": {
    "collapsed": true
   },
   "source": [
    "# Validation and Verification of the 25mm collimator simulation"
   ]
  },
  {
   "cell_type": "markdown",
   "metadata": {},
   "source": [
    "Here we prowide code and output which verifies and validates the 25mm collimator simulation. We're using simulation phase space file output and input to check the validity of the result"
   ]
  },
  {
   "cell_type": "code",
   "execution_count": 1,
   "metadata": {
    "collapsed": true
   },
   "outputs": [],
   "source": [
    "import math\n",
    "import matplotlib\n",
    "import numpy as np\n",
    "import matplotlib.pyplot as plt\n",
    "\n",
    "import BEAMphsf\n",
    "from H1Du import H1Du\n",
    "\n",
    "%matplotlib inline"
   ]
  },
  {
   "cell_type": "code",
   "execution_count": 3,
   "metadata": {
    "collapsed": false
   },
   "outputs": [
    {
     "name": "stdout",
     "output_type": "stream",
     "text": [
      "(6188124, 6188124.0)\n"
     ]
    },
    {
     "data": {
      "image/png": "[encoded data removed]",
      "text/plain": [
       "<matplotlib.figure.Figure at 0x7fa759fe2950>"
      ]
     },
     "metadata": {},
     "output_type": "display_data"
    }
   ],
   "source": [
    "with open(\"C25.egsphsp1\", \"rb\") as phsf:\n",
    "    \n",
    "    m, NPPHSP, NPHOTPHSP, EKMAX, EKMIN, NINCP = BEAMphsf.read_header(phsf)    \n",
    "\n",
    "    he = H1Du(50, 0.01, 1.33)\n",
    "\n",
    "    for i in range (0, NPPHSP):\n",
    "        (LATCH, E, X, Y, U, V, W, WT, ZLAST) = BEAMphsf.read_record_long(phsf)\n",
    "        if LATCH == 8388608: #8388608=2^23, this is photon, see PIRS-509, page #96\n",
    "            if E<0:\n",
    "                E = -E\n",
    "\n",
    "            he.fill(E, WT)\n",
    "\n",
    "    print(he.nof_events(), he.integral())\n",
    "\n",
    "    X = []\n",
    "    Y = []\n",
    "\n",
    "    step = he.step()\n",
    "    for i in range (-1, he.size()+1):\n",
    "        x = he.lo() + (float(i) + 0.5)*step\n",
    "        d = he[i] # data from bin with index i\n",
    "        y = d[0]  # first part of bin is collected weights\n",
    "        X.append(x)\n",
    "        Y.append(y)\n",
    "\n",
    "    width = 0.8*step\n",
    "    p1 = plt.bar(X, Y, width, color='r')\n",
    "\n",
    "    plt.xlabel('Energy(MeV)')\n",
    "    plt.ylabel('N of photons')\n",
    "    plt.title('Energy distribution')\n",
    "\n",
    "    plt.grid(True);\n",
    "    plt.tick_params(axis='x', direction='out')\n",
    "    plt.tick_params(axis='y', direction='out')\n",
    "\n",
    "    plt.show()\n"
   ]
  },
  {
   "cell_type": "code",
   "execution_count": 2,
   "metadata": {
    "collapsed": false
   },
   "outputs": [
    {
     "name": "stdout",
     "output_type": "stream",
     "text": [
      "m=0.0258164673413\n",
      "b=0.0491959521619\n"
     ]
    },
    {
     "data": {
      "image/png": "[encoded data removed]",
      "text/plain": [
       "<matplotlib.figure.Figure at 0x7fa759fb8cd0>"
      ]
     },
     "metadata": {},
     "output_type": "display_data"
    }
   ],
   "source": [
    "# code below demonstrates...\n",
    "\n",
    "x = [7,10,15,20,25,30,35, 40, 45, 50, 55, 60, 65, 70, 75, 80, 85, 90, 95]\n",
    "y= [0.228,0.298,0.441,0.568,0.697,0.826,0.956, 1.084, 1.211, 1.339,1.468, 1.599, 1.728, 1.851, 1.982, 2.115, 2.244, 2.375, 2.502]\n",
    "plt.scatter(x, y)\n",
    "plt.title('Linearity test')\n",
    "plt. xlabel('Length (cm)')\n",
    "plt. ylabel('Voltage (V)')\n",
    "fit = np.polyfit(x,y,1)\n",
    "fit_fn = np.poly1d(fit)\n",
    "plt.plot(x,y, 'yo', x, fit_fn(x), '--k')\n",
    "m,b = np.polyfit(x, y, 1)\n",
    "print ('m={0}'.format(m))\n",
    "print ('b={0}'.format(b))\n",
    "plt.show()"
   ]
  },
  {
   "cell_type": "code",
   "execution_count": null,
   "metadata": {
    "collapsed": true
   },
   "outputs": [],
   "source": []
  }
 ],
 "metadata": {
  "kernelspec": {
   "display_name": "Python 2",
   "language": "python",
   "name": "python2"
  },
  "language_info": {
   "codemirror_mode": {
    "name": "ipython",
    "version": 2
   },
   "file_extension": ".py",
   "mimetype": "text/x-python",
   "name": "python",
   "nbconvert_exporter": "python",
   "pygments_lexer": "ipython2",
   "version": "2.7.9"
  }
 },
 "nbformat": 4,
 "nbformat_minor": 0
}
