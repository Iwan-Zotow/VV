{
 "cells": [
  {
   "cell_type": "markdown",
   "metadata": {},
   "source": [
    "# Validation and Verification of the 25mm collimator simulation, GP3, PhSF"
   ]
  },
  {
   "cell_type": "markdown",
   "metadata": {},
   "source": [
    "Here we provide code and output which verifies and validates the 25mm collimator simulation. We're using simulation phase space file output and input to check the validity of the result. Geometry of the source is 12mm in length and activity of the source 120Ci. Secondary collimator is shifted relative to primary/source by 0.13 degrees."
   ]
  },
  {
   "cell_type": "code",
   "execution_count": 22,
   "metadata": {},
   "outputs": [],
   "source": [
    "import math\n",
    "import matplotlib\n",
    "import numpy as np\n",
    "import matplotlib.pyplot as plt\n",
    "\n",
    "import BEAMphsf\n",
    "\n",
    "import beam_loader\n",
    "import H1Dn\n",
    "import H1Du\n",
    "import ListTable\n",
    "\n",
    "%matplotlib inline"
   ]
  },
  {
   "cell_type": "code",
   "execution_count": 23,
   "metadata": {},
   "outputs": [],
   "source": [
    "def cm2mm(value):\n",
    "    \"\"\"\n",
    "    converts cm to mm\n",
    "    \"\"\"\n",
    "    return value*10.0"
   ]
  },
  {
   "cell_type": "markdown",
   "metadata": {},
   "source": [
    "*First, set filename to what we want to examine and read PhSF header*"
   ]
  },
  {
   "cell_type": "code",
   "execution_count": 24,
   "metadata": {},
   "outputs": [
    {
     "name": "stdout",
     "output_type": "stream",
     "text": [
      "We're reading the 25mm phase space file = ../C25GP3p13.egsphsp1\n"
     ]
    }
   ],
   "source": [
    "C = 25\n",
    "phsfname = \"C\" + str(C) + \"GP3p13\" + \".egsphsp1\"\n",
    "phsfname = \"../\" + phsfname\n",
    "print (\"We're reading the {1}mm phase space file = {0}\".format(phsfname, C))"
   ]
  },
  {
   "cell_type": "markdown",
   "metadata": {},
   "source": [
    "*Checking PhSF header parameters*"
   ]
  },
  {
   "cell_type": "code",
   "execution_count": 25,
   "metadata": {},
   "outputs": [
    {
     "name": "stdout",
     "output_type": "stream",
     "text": [
      "We're reading the 25mm phase space file = ../C25GP3p13.egsphsp1\n",
      "We have long MODE2 phase space file\n",
      "Total nof of particle records: 8825973\n",
      "Total nof of photon records: 8825973\n",
      "Maximum kinetic energy: 1.3300000429153442 MeV\n",
      "Minimum kinetic energy: 0.002244699979200959 MeV\n",
      "Number of original particles: 33600000000.0\n",
      "Yield: 0.00026267776785714284\n"
     ]
    }
   ],
   "source": [
    "m, NPPHSP, NPHOTPHSP, EKMAX, EKMIN, NINCP = beam_loader.read_header_byname(phsfname)\n",
    "print (\"We're reading the {1}mm phase space file = {0}\".format(phsfname, C))\n",
    "if m == beam_loader.SHORT:\n",
    "    print(\"We have short MODE0 phase space file\".format(m))\n",
    "elif m == beam_loader.LONG:\n",
    "    print(\"We have long MODE2 phase space file\".format(m))\n",
    "    \n",
    "print(\"Total nof of particle records: {0}\".format(NPPHSP))\n",
    "print(\"Total nof of photon records: {0}\".format(NPHOTPHSP))\n",
    "print(\"Maximum kinetic energy: {0} MeV\".format(EKMAX))\n",
    "print(\"Minimum kinetic energy: {0} MeV\".format(EKMIN))\n",
    "print(\"Number of original particles: {0}\".format(NINCP))\n",
    "print(\"Yield: {0}\".format(NPHOTPHSP/NINCP))"
   ]
  },
  {
   "cell_type": "code",
   "execution_count": 26,
   "metadata": {},
   "outputs": [
    {
     "name": "stdout",
     "output_type": "stream",
     "text": [
      "33600000000.0\n",
      "Number of loaded events: 8825973\n",
      "Number of loaded photons: 8825973\n",
      "Number of loaded electrons: 0\n",
      "Number of loaded positrons: 0\n"
     ]
    }
   ],
   "source": [
    "events, nof_photons, nof_electrons, nof_positrons = beam_loader.load_events(phsfname, -1)\n",
    "\n",
    "print(\"Number of loaded events: {0}\".format(len(events)))\n",
    "print(\"Number of loaded photons: {0}\".format(nof_photons))\n",
    "print(\"Number of loaded electrons: {0}\".format(nof_electrons))\n",
    "print(\"Number of loaded positrons: {0}\".format(nof_positrons))"
   ]
  },
  {
   "cell_type": "markdown",
   "metadata": {},
   "source": [
    "Convert all spatial coordinates to mm"
   ]
  },
  {
   "cell_type": "code",
   "execution_count": 27,
   "metadata": {},
   "outputs": [],
   "source": [
    "evts = list()\n",
    "for event in events:\n",
    "    wt = event[0]\n",
    "    e  = event[1]\n",
    "    x  = cm2mm(event[2])\n",
    "    y  = cm2mm(event[3])\n",
    "    zl = cm2mm(event[4])\n",
    "    wx = event[5]\n",
    "    wy = event[6]\n",
    "    wz = event[7]\n",
    "    \n",
    "    evts.append(((wt, e, x, y, zl, wx, wy, wz)))\n",
    "    \n",
    "events = evts"
   ]
  },
  {
   "cell_type": "markdown",
   "metadata": {},
   "source": [
    "## Energy Spectrum tests"
   ]
  },
  {
   "cell_type": "markdown",
   "metadata": {},
   "source": [
    "*We expect energy spectrum to be scattering background together with peaks δ(E-1.17) and δ(E-1.33). Below we'trying to prove this statement. We will draw the distributions and histograms to estimate influence of the background scattering and get the data about δ-peaks*"
   ]
  },
  {
   "cell_type": "markdown",
   "metadata": {},
   "source": [
    "### We're filling energy histogram now, basic checks"
   ]
  },
  {
   "cell_type": "markdown",
   "metadata": {},
   "source": [
    "*We're building scale with 5 bins in the region between 1.17 and 1.33 MeV, all other bins below 1.17 are of about the same size as those 5*"
   ]
  },
  {
   "cell_type": "code",
   "execution_count": 28,
   "metadata": {},
   "outputs": [
    {
     "name": "stdout",
     "output_type": "stream",
     "text": [
      "Number of events in histogram: 8825973\n",
      "Integral in histogram: 8825973.0\n",
      "Underflow bin: (171.0, 171, 171.0)\n",
      "Overflow  bin: (0.0, 0, 0.0)\n"
     ]
    }
   ],
   "source": [
    "# make scale with explicit bins at 1.17 MeV and 1.33 MeV\n",
    "nbins = 5\n",
    "\n",
    "scale = BEAMphsf.make_energy_scale(nbins, lo = 0.01, me = 1.1700001, hi = 1.3300001)\n",
    "\n",
    "he = H1Dn.H1Dn(scale)\n",
    "\n",
    "for e in events:\n",
    "    WT = e[0]\n",
    "    E  = e[1]\n",
    "    he.fill(E, WT)\n",
    "    \n",
    "print(\"Number of events in histogram: {0}\".format(he.nof_events()))\n",
    "print(\"Integral in histogram: {0}\".format(he.integral()))\n",
    "print(\"Underflow bin: {0}\".format(he.underflow()))\n",
    "print(\"Overflow  bin: {0}\".format(he.overflow()))"
   ]
  },
  {
   "cell_type": "markdown",
   "metadata": {},
   "source": [
    "*Underflow bin is close to empty, as well as Overflow bin. This is good because we do not expect events beyond 1.33MeV and below ECUT*"
   ]
  },
  {
   "cell_type": "markdown",
   "metadata": {},
   "source": [
    "### Drawing Probability Density Function for 5 bins between 1.33 peak and 1.17 peak."
   ]
  },
  {
   "cell_type": "code",
   "execution_count": 29,
   "metadata": {},
   "outputs": [
    {
     "name": "stdout",
     "output_type": "stream",
     "text": [
      "PDF normalization: 1.0\n"
     ]
    },
    {
     "data": {
      "image/png": "[encoded data removed]",
      "text/plain": [
       "<Figure size 432x288 with 1 Axes>"
      ]
     },
     "metadata": {
      "needs_background": "light"
     },
     "output_type": "display_data"
    }
   ],
   "source": [
    "X = []\n",
    "Y = []\n",
    "W = []\n",
    "\n",
    "scale = he.x()\n",
    "n     = len(scale)\n",
    "norm  = 1.0/he.integral()\n",
    "\n",
    "sum = 0.0\n",
    "\n",
    "for k in range (-1, he.size()+1):\n",
    "    x = 0.0\n",
    "    w = (he.lo() - x)\n",
    "    if k == he.size():\n",
    "        w = (scale[-1]-scale[-2])\n",
    "        x = he.hi()\n",
    "    elif k >= 0:\n",
    "        w = (scale[k+1] - scale[k])\n",
    "        x = scale[k]\n",
    "\n",
    "    d = he[k]     # data from bin with index k\n",
    "    y = d[0] / w  # first part of bin is collected weights\n",
    "    y = y * norm\n",
    "    X.append(x)\n",
    "    Y.append(y)\n",
    "    W.append(w)\n",
    "    sum += y*w\n",
    "\n",
    "print(\"PDF normalization: {0}\".format(sum))\n",
    "\n",
    "E133_5 = Y[-2]\n",
    "E117_5 = Y[-2-nbins]\n",
    "\n",
    "p1 = plt.bar(X, Y, W, color='r')\n",
    "\n",
    "plt.xlabel('Energy(MeV)')\n",
    "plt.ylabel('PDF of the photons')\n",
    "plt.title('Energy distribution')\n",
    "\n",
    "plt.grid(True);\n",
    "plt.tick_params(axis='x', direction='out')\n",
    "plt.tick_params(axis='y', direction='out')\n",
    "\n",
    "plt.show()"
   ]
  },
  {
   "cell_type": "code",
   "execution_count": 30,
   "metadata": {},
   "outputs": [
    {
     "name": "stdout",
     "output_type": "stream",
     "text": [
      "Peak PDF value at 1.33 MeV: 12.7175213429726\n",
      "Peak PDF value at 1.17 MeV: 12.442055963688071\n"
     ]
    }
   ],
   "source": [
    "# saving peak values\n",
    "print(\"Peak PDF value at 1.33 MeV: {0}\".format(E133_5))\n",
    "print(\"Peak PDF value at 1.17 MeV: {0}\".format(E117_5))"
   ]
  },
  {
   "cell_type": "markdown",
   "metadata": {},
   "source": [
    "### Filling energy histogram with double number of bins"
   ]
  },
  {
   "cell_type": "markdown",
   "metadata": {},
   "source": [
    "*We're building scale with 10 bins in the region between 1.17 and 1.33 MeV, all other bins below 1.17 are of about the same size as those 10*"
   ]
  },
  {
   "cell_type": "code",
   "execution_count": 31,
   "metadata": {},
   "outputs": [
    {
     "name": "stdout",
     "output_type": "stream",
     "text": [
      "Number of events in histogram: 8825973\n",
      "Integral in histogram: 8825973.0\n",
      "Underflow bin: (171.0, 171, 171.0)\n",
      "Overflow  bin: (0.0, 0, 0.0)\n"
     ]
    }
   ],
   "source": [
    "# make scale with explicit bins at 1.17 MeV and 1.33 MeV\n",
    "nbins = 10\n",
    "\n",
    "scale = BEAMphsf.make_energy_scale(nbins, lo = 0.01, me = 1.1700001, hi = 1.3300001)\n",
    "\n",
    "he = H1Dn.H1Dn(scale)\n",
    "\n",
    "for e in events:\n",
    "    WT = e[0]\n",
    "    E  = e[1]\n",
    "    he.fill(E, WT)\n",
    "    \n",
    "print(\"Number of events in histogram: {0}\".format(he.nof_events()))\n",
    "print(\"Integral in histogram: {0}\".format(he.integral()))\n",
    "print(\"Underflow bin: {0}\".format(he.underflow()))\n",
    "print(\"Overflow  bin: {0}\".format(he.overflow()))"
   ]
  },
  {
   "cell_type": "markdown",
   "metadata": {},
   "source": [
    "*Underflow bin is close to empty, as well as Overflow bin. This is good because we do not expect events beyond 1.33MeV and below ECUT*"
   ]
  },
  {
   "cell_type": "markdown",
   "metadata": {},
   "source": [
    "### Drawing Probability Density Function for 10 bins between 1.33 peak and 1.17 peak."
   ]
  },
  {
   "cell_type": "code",
   "execution_count": 32,
   "metadata": {},
   "outputs": [
    {
     "name": "stdout",
     "output_type": "stream",
     "text": [
      "PDF normalization: 0.9999999999999999\n"
     ]
    },
    {
     "data": {
      "image/png": "[encoded data removed]",
      "text/plain": [
       "<Figure size 432x288 with 1 Axes>"
      ]
     },
     "metadata": {
      "needs_background": "light"
     },
     "output_type": "display_data"
    }
   ],
   "source": [
    "X = []\n",
    "Y = []\n",
    "W = []\n",
    "\n",
    "scale = he.x()\n",
    "n     = len(scale)\n",
    "norm  = 1.0/he.integral()\n",
    "\n",
    "sum = 0.0\n",
    "\n",
    "for k in range (-1, he.size()+1):\n",
    "    x = 0.0\n",
    "    w = (he.lo() - x)\n",
    "    if k == he.size():\n",
    "        w = (scale[-1]-scale[-2])\n",
    "        x = he.hi()\n",
    "    elif k >= 0:\n",
    "        w = (scale[k+1] - scale[k])\n",
    "        x = scale[k]\n",
    "\n",
    "    d = he[k]     # data from bin with index k\n",
    "    y = d[0] / w  # first part of bin is collected weights\n",
    "    y = y * norm\n",
    "    X.append(x)\n",
    "    Y.append(y)\n",
    "    W.append(w)\n",
    "    sum += y*w\n",
    "\n",
    "print(\"PDF normalization: {0}\".format(sum))\n",
    "\n",
    "E133_10 = Y[-2]\n",
    "E117_10 = Y[-2-nbins]\n",
    "\n",
    "p1 = plt.bar(X, Y, W, color='r')\n",
    "\n",
    "plt.xlabel('Energy(MeV)')\n",
    "plt.ylabel('PDF of the photons')\n",
    "plt.title('Energy distribution')\n",
    "\n",
    "plt.grid(True);\n",
    "plt.tick_params(axis='x', direction='out')\n",
    "plt.tick_params(axis='y', direction='out')\n",
    "\n",
    "plt.show()"
   ]
  },
  {
   "cell_type": "code",
   "execution_count": 33,
   "metadata": {},
   "outputs": [
    {
     "name": "stdout",
     "output_type": "stream",
     "text": [
      "Peak PDF value at 1.33 MeV: 25.120240283989062\n",
      "Peak PDF value at 1.17 MeV: 24.383359772344626\n"
     ]
    }
   ],
   "source": [
    "# saving peak values\n",
    "print(\"Peak PDF value at 1.33 MeV: {0}\".format(E133_10))\n",
    "print(\"Peak PDF value at 1.17 MeV: {0}\".format(E117_10))"
   ]
  },
  {
   "cell_type": "markdown",
   "metadata": {},
   "source": [
    "### Filling energy histogram with quadruple number of bins"
   ]
  },
  {
   "cell_type": "markdown",
   "metadata": {},
   "source": [
    "*We're building scale with 20 bins in the region between 1.17 and 1.33 MeV, all other bins below 1.17 are of about the same size as those 20.*"
   ]
  },
  {
   "cell_type": "code",
   "execution_count": 34,
   "metadata": {},
   "outputs": [
    {
     "name": "stdout",
     "output_type": "stream",
     "text": [
      "Number of events in histogram: 8825973\n",
      "Integral in histogram: 8825973.0\n",
      "Underflow bin: (171.0, 171, 171.0)\n",
      "Overflow  bin: (0.0, 0, 0.0)\n"
     ]
    }
   ],
   "source": [
    "# make scale with explicit bins at 1.17 MeV and 1.33 MeV\n",
    "nbins = 20\n",
    "\n",
    "scale = BEAMphsf.make_energy_scale(nbins, lo = 0.01, me = 1.1700001, hi = 1.3300001)\n",
    "\n",
    "he = H1Dn.H1Dn(scale)\n",
    "\n",
    "for e in events:\n",
    "    WT = e[0]\n",
    "    E  = e[1]\n",
    "    he.fill(E, WT)\n",
    "    \n",
    "print(\"Number of events in histogram: {0}\".format(he.nof_events()))\n",
    "print(\"Integral in histogram: {0}\".format(he.integral()))\n",
    "print(\"Underflow bin: {0}\".format(he.underflow()))\n",
    "print(\"Overflow  bin: {0}\".format(he.overflow()))"
   ]
  },
  {
   "cell_type": "markdown",
   "metadata": {},
   "source": [
    "*Underflow bin is close to empty, as well as Overflow bin. This is good because we do not expect events beyond 1.33MeV and below ECUT*"
   ]
  },
  {
   "cell_type": "markdown",
   "metadata": {},
   "source": [
    "### Drawing Probability Density Function for 10 bins between 1.33 peak and 1.17 peak."
   ]
  },
  {
   "cell_type": "code",
   "execution_count": 35,
   "metadata": {},
   "outputs": [
    {
     "name": "stdout",
     "output_type": "stream",
     "text": [
      "PDF normalization: 1.0000000000000002\n"
     ]
    },
    {
     "data": {
      "image/png": "[encoded data removed]",
      "text/plain": [
       "<Figure size 432x288 with 1 Axes>"
      ]
     },
     "metadata": {
      "needs_background": "light"
     },
     "output_type": "display_data"
    }
   ],
   "source": [
    "X = []\n",
    "Y = []\n",
    "W = []\n",
    "\n",
    "scale = he.x()\n",
    "n     = len(scale)\n",
    "norm  = 1.0/he.integral()\n",
    "\n",
    "sum = 0.0\n",
    "\n",
    "for k in range (-1, he.size()+1):\n",
    "    x = 0.0\n",
    "    w = (he.lo() - x)\n",
    "    if k == he.size():\n",
    "        w = (scale[-1]-scale[-2])\n",
    "        x = he.hi()\n",
    "    elif k >= 0:\n",
    "        w = (scale[k+1] - scale[k])\n",
    "        x = scale[k]\n",
    "\n",
    "    d = he[k]     # data from bin with index k\n",
    "    y = d[0] / w  # first part of bin is collected weights\n",
    "    y = y * norm\n",
    "    X.append(x)\n",
    "    Y.append(y)\n",
    "    W.append(w)\n",
    "    sum += y*w\n",
    "\n",
    "print(\"PDF normalization: {0}\".format(sum))\n",
    "\n",
    "E133_20 = Y[-2]\n",
    "E117_20 = Y[-2-nbins]\n",
    "\n",
    "p1 = plt.bar(X, Y, W, color='r')\n",
    "\n",
    "plt.xlabel('Energy(MeV)')\n",
    "plt.ylabel('PDF of the photons')\n",
    "plt.title('Energy distribution')\n",
    "\n",
    "plt.grid(True);\n",
    "plt.tick_params(axis='x', direction='out')\n",
    "plt.tick_params(axis='y', direction='out')\n",
    "\n",
    "plt.show()"
   ]
  },
  {
   "cell_type": "code",
   "execution_count": 36,
   "metadata": {},
   "outputs": [
    {
     "name": "stdout",
     "output_type": "stream",
     "text": [
      "Peak PDF value at 1.33 MeV: 49.952948530433936\n",
      "Peak PDF value at 1.17 MeV: 48.266647201390676\n"
     ]
    }
   ],
   "source": [
    "# saving peak values\n",
    "print(\"Peak PDF value at 1.33 MeV: {0}\".format(E133_20))\n",
    "print(\"Peak PDF value at 1.17 MeV: {0}\".format(E117_20))"
   ]
  },
  {
   "cell_type": "markdown",
   "metadata": {},
   "source": [
    "### Comparing peak values"
   ]
  },
  {
   "cell_type": "markdown",
   "metadata": {},
   "source": [
    "*We would compare peak values at 10 bins and at 5 bins. The presence of δ-peaks means that with doubling number of bins we shall expect the roughly doubling the peak values.*"
   ]
  },
  {
   "cell_type": "code",
   "execution_count": 37,
   "metadata": {},
   "outputs": [
    {
     "data": {
      "text/html": [
       "<table><tr><td>Nbins</td><td>E=1.17</td><td>E=1.33</td></tr><tr><td></td><td>MeV</td><td>MeV</td></tr><tr><td>5</td><td>1.0</td><td>1.0</td></tr><tr><td>10</td><td>1.9752465599650761</td><td>1.9752465599650761</td></tr><tr><td>20</td><td>3.92788399431598</td><td>3.92788399431598</td></tr></table>"
      ],
      "text/plain": [
       "[['Nbins', 'E=1.17', 'E=1.33'],\n",
       " ['', 'MeV', 'MeV'],\n",
       " [5, 1.0, 1.0],\n",
       " [10, 1.9752465599650761, 1.9752465599650761],\n",
       " [20, 3.92788399431598, 3.92788399431598]]"
      ]
     },
     "execution_count": 37,
     "metadata": {},
     "output_type": "execute_result"
    }
   ],
   "source": [
    "table = ListTable.ListTable()\n",
    "\n",
    "table.append([\"Nbins\", \"E=1.17\", \"E=1.33\"])\n",
    "table.append([\"\", \"MeV\", \"MeV\"])\n",
    "table.append([5, 1.0, 1.0])\n",
    "table.append([10, E133_10/E133_5, E133_10/E133_5])\n",
    "table.append([20, E133_20/E133_5, E133_20/E133_5])\n",
    "table"
   ]
  },
  {
   "cell_type": "markdown",
   "metadata": {},
   "source": [
    "*The result is as expected. Only few percent of the values in the 1.33 and 1.17 MeV bins are due to scattered radiation. Most values are coming from primary source and are δ-peaks in energy.*"
   ]
  },
  {
   "cell_type": "markdown",
   "metadata": {},
   "source": [
    "## Spatial Distribution tests"
   ]
  },
  {
   "cell_type": "markdown",
   "metadata": {},
   "source": [
    "*Here we will plot spatial distribution of the particles, projected from collimator exit position to the isocenter location at 38cm*"
   ]
  },
  {
   "cell_type": "code",
   "execution_count": 38,
   "metadata": {},
   "outputs": [
    {
     "name": "stdout",
     "output_type": "stream",
     "text": [
      "Number of events in R histogram: 8825973\n",
      "Integral in R histogram: 8825973.0\n",
      "Underflow bin: (0.0, 0, 0.0)\n",
      "Overflow  bin: (237193.0, 237193, 237193.0)\n",
      "\n",
      "Number of events in X histogram: 8825973\n",
      "Integral in X histogram: 8825973.0\n",
      "Underflow bin: (99071.0, 99071, 99071.0)\n",
      "Overflow  bin: (83141.0, 83141, 83141.0)\n",
      "\n",
      "Number of events in Y histogram: 8825973\n",
      "Integral in Y histogram: 8825973.0\n",
      "Underflow bin: (90977.0, 90977, 90977.0)\n",
      "Overflow  bin: (91453.0, 91453, 91453.0)\n"
     ]
    }
   ],
   "source": [
    "Znow  = 200.0 # we at 000mm at the cooolimator exit\n",
    "Zshot = 360.0 # shot isocenter is at 380mm\n",
    "\n",
    "# radial, X and Y, all units in mm\n",
    "hr = H1Du.H1Du(120, 0.0, 40.0)\n",
    "hx = H1Du.H1Du(128, -32.0, 32.0)\n",
    "hy = H1Du.H1Du(128, -32.0, 32.0)\n",
    "\n",
    "for e in events:\n",
    "    WT = e[0]\n",
    "    xx, yy, zz = BEAMphsf.move_event(e, Znow, Zshot)\n",
    "    \n",
    "    #xx = e[2]\n",
    "    #yy = e[3]\n",
    "    #zz = e[4]\n",
    "    \n",
    "    r = math.sqrt(xx*xx + yy*yy)\n",
    "    hr.fill(r, WT)\n",
    "    hx.fill(xx, WT)\n",
    "    hy.fill(yy, WT)\n",
    "\n",
    "print(\"Number of events in R histogram: {0}\".format(hr.nof_events()))\n",
    "print(\"Integral in R histogram: {0}\".format(hr.integral()))\n",
    "print(\"Underflow bin: {0}\".format(hr.underflow()))\n",
    "print(\"Overflow  bin: {0}\\n\".format(hr.overflow()))\n",
    "\n",
    "print(\"Number of events in X histogram: {0}\".format(hx.nof_events()))\n",
    "print(\"Integral in X histogram: {0}\".format(hx.integral()))\n",
    "print(\"Underflow bin: {0}\".format(hx.underflow()))\n",
    "print(\"Overflow  bin: {0}\\n\".format(hx.overflow()))\n",
    "\n",
    "print(\"Number of events in Y histogram: {0}\".format(hy.nof_events()))\n",
    "print(\"Integral in Y histogram: {0}\".format(hy.integral()))\n",
    "print(\"Underflow bin: {0}\".format(hy.underflow()))\n",
    "print(\"Overflow  bin: {0}\".format(hy.overflow()))"
   ]
  },
  {
   "cell_type": "code",
   "execution_count": 39,
   "metadata": {},
   "outputs": [
    {
     "name": "stdout",
     "output_type": "stream",
     "text": [
      "PDF normalization: 0.9999999999999999\n"
     ]
    },
    {
     "data": {
      "image/png": "[encoded data removed]",
      "text/plain": [
       "<Figure size 432x288 with 1 Axes>"
      ]
     },
     "metadata": {
      "needs_background": "light"
     },
     "output_type": "display_data"
    }
   ],
   "source": [
    "X = []\n",
    "Y = []\n",
    "W = []\n",
    "\n",
    "norm  = 1.0/hr.integral()\n",
    "\n",
    "sum = 0.0\n",
    "\n",
    "st = hr.step()\n",
    "\n",
    "for k in range (0, hr.size()+1):\n",
    "    r_lo = hr.lo() + float(k) * st\n",
    "    r_hi = r_lo + st\n",
    "    r = 0.5*(r_lo + r_hi)\n",
    "    \n",
    "    ba = math.pi * (r_hi*r_hi - r_lo*r_lo) # bin area\n",
    "\n",
    "    d = hr[k]      # data from bin with index k\n",
    "    y = d[0] / ba  # first part of bin is collected weights\n",
    "    y = y * norm\n",
    "    X.append(r)\n",
    "    Y.append(y)\n",
    "    W.append(st)\n",
    "    sum += y * ba\n",
    "\n",
    "print(\"PDF normalization: {0}\".format(sum))\n",
    "\n",
    "p1 = plt.bar(X, Y, W, 0.0, color='b')\n",
    "\n",
    "plt.xlabel('Radius(mm)')\n",
    "plt.ylabel('PDF of the photons')\n",
    "plt.title('Radial distribution')\n",
    "\n",
    "plt.grid(True);\n",
    "plt.tick_params(axis='x', direction='out')\n",
    "plt.tick_params(axis='y', direction='out')\n",
    "\n",
    "plt.show()"
   ]
  },
  {
   "cell_type": "markdown",
   "metadata": {},
   "source": [
    "NB: peak at the far right above 40mm is overflow bin"
   ]
  },
  {
   "cell_type": "code",
   "execution_count": 40,
   "metadata": {},
   "outputs": [
    {
     "name": "stdout",
     "output_type": "stream",
     "text": [
      "PDF normalization: 0.9793550240862962\n"
     ]
    },
    {
     "data": {
      "image/png": "[encoded data removed]",
      "text/plain": [
       "<Figure size 432x288 with 1 Axes>"
      ]
     },
     "metadata": {
      "needs_background": "light"
     },
     "output_type": "display_data"
    }
   ],
   "source": [
    "X = []\n",
    "Y = []\n",
    "W = []\n",
    "\n",
    "norm  = 1.0/hx.integral()\n",
    "\n",
    "sum = 0.0\n",
    "\n",
    "st = hx.step()    \n",
    "\n",
    "for k in range (0, hx.size()):\n",
    "    x_lo = hx.lo() + float(k)*st\n",
    "    x_hi = x_lo + st\n",
    "    x    = 0.5*(x_lo + x_hi)\n",
    "\n",
    "    d = hx[k]        # data from bin with index k\n",
    "    y = d[0] / st    # first part of bin is collected weights\n",
    "    y = y * norm\n",
    "    X.append(x)\n",
    "    Y.append(y)\n",
    "    W.append(st)\n",
    "    sum += y*st\n",
    "\n",
    "print(\"PDF normalization: {0}\".format(sum))\n",
    "\n",
    "p1 = plt.bar(X, Y, W, color='b')\n",
    "\n",
    "plt.xlabel('X(mm)')\n",
    "plt.ylabel('PDF of the photons')\n",
    "plt.title('X distribution')\n",
    "\n",
    "plt.grid(True);\n",
    "plt.tick_params(axis='x', direction='out')\n",
    "plt.tick_params(axis='y', direction='out')\n",
    "\n",
    "plt.show()"
   ]
  },
  {
   "cell_type": "code",
   "execution_count": 41,
   "metadata": {},
   "outputs": [
    {
     "name": "stdout",
     "output_type": "stream",
     "text": [
      "PDF normalization: 0.9793303242599996\n"
     ]
    },
    {
     "data": {
      "image/png": "[encoded data removed]",
      "text/plain": [
       "<Figure size 432x288 with 1 Axes>"
      ]
     },
     "metadata": {
      "needs_background": "light"
     },
     "output_type": "display_data"
    }
   ],
   "source": [
    "X = []\n",
    "Y = []\n",
    "W = []\n",
    "\n",
    "norm  = 1.0/hy.integral()\n",
    "\n",
    "sum = 0.0\n",
    "\n",
    "st = hy.step()\n",
    "\n",
    "for k in range (0, hy.size()):\n",
    "    x_lo = hy.lo() + float(k)*st\n",
    "    x_hi = x_lo + st\n",
    "    x    = 0.5*(x_lo + x_hi)\n",
    "\n",
    "    d = hy[k]       # data from bin with index k\n",
    "    y = d[0] / st    # first part of bin is collected weights\n",
    "    y = y * norm\n",
    "    X.append(x)\n",
    "    Y.append(y)\n",
    "    W.append(st)\n",
    "    sum += y*st\n",
    "\n",
    "print(\"PDF normalization: {0}\".format(sum))\n",
    "\n",
    "p1 = plt.bar(X, Y, W, color='b')\n",
    "\n",
    "plt.xlabel('Y(mm)')\n",
    "plt.ylabel('PDF of the photons')\n",
    "plt.title('Y distribution')\n",
    "\n",
    "plt.grid(True);\n",
    "plt.tick_params(axis='x', direction='out')\n",
    "plt.tick_params(axis='y', direction='out')\n",
    "\n",
    "plt.show()"
   ]
  },
  {
   "cell_type": "markdown",
   "metadata": {},
   "source": [
    "*We find spatial distribution to be consistent with the collimation setup*"
   ]
  },
  {
   "cell_type": "markdown",
   "metadata": {},
   "source": [
    "## Angular Distribution tests"
   ]
  },
  {
   "cell_type": "markdown",
   "metadata": {},
   "source": [
    "*Here we plot particles angular distribution for all three directional cosines, at the collimator exit. We expect angular distribution to fill collimation angle which is close to 0.017 radians (0.5x15/380).*"
   ]
  },
  {
   "cell_type": "code",
   "execution_count": 42,
   "metadata": {},
   "outputs": [
    {
     "name": "stdout",
     "output_type": "stream",
     "text": [
      "Number of events in WZ histogram: 8825973\n",
      "Integral in WZ histogram: 8825973.0\n",
      "Underflow bin: (176424.0, 176424, 176424.0)\n",
      "Overflow  bin: (0.0, 0, 0.0)\n",
      "\n",
      "Number of events in WX histogram: 8825973\n",
      "Integral in WX histogram: 8825973.0\n",
      "Underflow bin: (170928.0, 170928, 170928.0)\n",
      "Overflow  bin: (139599.0, 139599, 139599.0)\n",
      "\n",
      "Number of events in WY histogram: 8825973\n",
      "Integral in WY histogram: 8825973.0\n",
      "Underflow bin: (154597.0, 154597, 154597.0)\n",
      "Overflow  bin: (154903.0, 154903, 154903.0)\n"
     ]
    }
   ],
   "source": [
    "# angular, WZ, WX and WY, all units in radians\n",
    "h_wz = H1Du.H1Du(100, 1.0 - 0.05, 1.0)\n",
    "h_wx = H1Du.H1Du(110, -0.055, 0.055)\n",
    "h_wy = H1Du.H1Du(110, -0.055, 0.055)\n",
    "\n",
    "for e in events:\n",
    "    WT = e[0]\n",
    "    \n",
    "    wx = e[5]\n",
    "    wy = e[6]\n",
    "    wz = e[7]\n",
    "    \n",
    "    h_wz.fill(wz, WT)\n",
    "    h_wx.fill(wx, WT)\n",
    "    h_wy.fill(wy, WT)\n",
    "\n",
    "print(\"Number of events in WZ histogram: {0}\".format(h_wz.nof_events()))\n",
    "print(\"Integral in WZ histogram: {0}\".format(h_wz.integral()))\n",
    "print(\"Underflow bin: {0}\".format(h_wz.underflow()))\n",
    "print(\"Overflow  bin: {0}\\n\".format(h_wz.overflow()))\n",
    "\n",
    "print(\"Number of events in WX histogram: {0}\".format(h_wx.nof_events()))\n",
    "print(\"Integral in WX histogram: {0}\".format(h_wx.integral()))\n",
    "print(\"Underflow bin: {0}\".format(h_wx.underflow()))\n",
    "print(\"Overflow  bin: {0}\\n\".format(h_wx.overflow()))\n",
    "\n",
    "print(\"Number of events in WY histogram: {0}\".format(h_wy.nof_events()))\n",
    "print(\"Integral in WY histogram: {0}\".format(h_wy.integral()))\n",
    "print(\"Underflow bin: {0}\".format(h_wy.underflow()))\n",
    "print(\"Overflow  bin: {0}\".format(h_wy.overflow()))"
   ]
  },
  {
   "cell_type": "code",
   "execution_count": 43,
   "metadata": {},
   "outputs": [
    {
     "name": "stdout",
     "output_type": "stream",
     "text": [
      "PDF normalization: 0.9800108158046711\n"
     ]
    },
    {
     "data": {
      "image/png": "[encoded data removed]",
      "text/plain": [
       "<Figure size 432x288 with 1 Axes>"
      ]
     },
     "metadata": {
      "needs_background": "light"
     },
     "output_type": "display_data"
    }
   ],
   "source": [
    "X = []\n",
    "Y = []\n",
    "W = []\n",
    "\n",
    "norm  = 1.0/h_wz.integral()\n",
    "\n",
    "sum = 0.0\n",
    "\n",
    "st = h_wz.step()\n",
    "\n",
    "for k in range (0, h_wz.size()+1):\n",
    "    x_lo = h_wz.lo() + float(k)*st\n",
    "    x_hi = x_lo + st\n",
    "    x    = 0.5*(x_lo + x_hi)\n",
    "\n",
    "    d = h_wz[k]       # data from bin with index k\n",
    "    y = d[0] / st     # first part of bin is collected weights\n",
    "    y = y * norm\n",
    "    X.append(x)\n",
    "    Y.append(y)\n",
    "    W.append(st)\n",
    "    sum += y*st\n",
    "\n",
    "print(\"PDF normalization: {0}\".format(sum))\n",
    "\n",
    "p1 = plt.bar(X, Y, W, color='g')\n",
    "\n",
    "plt.xlabel('WZ')\n",
    "plt.ylabel('PDF of the photons')\n",
    "plt.title('Angular Z distribution')\n",
    "\n",
    "plt.grid(True);\n",
    "plt.tick_params(axis='x', direction='out')\n",
    "plt.tick_params(axis='y', direction='out')\n",
    "\n",
    "plt.show()"
   ]
  },
  {
   "cell_type": "code",
   "execution_count": 44,
   "metadata": {},
   "outputs": [
    {
     "name": "stdout",
     "output_type": "stream",
     "text": [
      "PDF normalization: 0.9648166836676252\n"
     ]
    },
    {
     "data": {
      "image/png": "[encoded data removed]",
      "text/plain": [
       "<Figure size 432x288 with 1 Axes>"
      ]
     },
     "metadata": {
      "needs_background": "light"
     },
     "output_type": "display_data"
    }
   ],
   "source": [
    "X = []\n",
    "Y = []\n",
    "W = []\n",
    "\n",
    "norm  = 1.0/h_wx.integral()\n",
    "\n",
    "sum = 0.0\n",
    "\n",
    "st = h_wx.step()\n",
    "\n",
    "for k in range (0, h_wx.size()):\n",
    "    x_lo = h_wx.lo() + float(k)*st\n",
    "    x_hi = x_lo + st\n",
    "    x    = 0.5*(x_lo + x_hi)\n",
    "\n",
    "    d = h_wx[k]       # data from bin with index k\n",
    "    y = d[0] / st     # first part of bin is collected weights\n",
    "    y = y * norm\n",
    "    X.append(x)\n",
    "    Y.append(y)\n",
    "    W.append(st)\n",
    "    sum += y*st\n",
    "\n",
    "print(\"PDF normalization: {0}\".format(sum))\n",
    "\n",
    "p1 = plt.bar(X, Y, W, color='g')\n",
    "\n",
    "plt.xlabel('WX')\n",
    "plt.ylabel('PDF of the photons')\n",
    "plt.title('Angular X distribution')\n",
    "\n",
    "plt.grid(True);\n",
    "plt.tick_params(axis='x', direction='out')\n",
    "plt.tick_params(axis='y', direction='out')\n",
    "\n",
    "plt.show()"
   ]
  },
  {
   "cell_type": "code",
   "execution_count": 45,
   "metadata": {},
   "outputs": [
    {
     "name": "stdout",
     "output_type": "stream",
     "text": [
      "PDF normalization: 0.9649330447759135\n"
     ]
    },
    {
     "data": {
      "image/png": "[encoded data removed]",
      "text/plain": [
       "<Figure size 432x288 with 1 Axes>"
      ]
     },
     "metadata": {
      "needs_background": "light"
     },
     "output_type": "display_data"
    }
   ],
   "source": [
    "X = []\n",
    "Y = []\n",
    "W = []\n",
    "\n",
    "norm  = 1.0/h_wy.integral()\n",
    "\n",
    "sum = 0.0\n",
    "\n",
    "st = h_wy.step()\n",
    "\n",
    "for k in range (0, h_wy.size()):\n",
    "    x_lo = h_wy.lo() + float(k)*st\n",
    "    x_hi = x_lo + st\n",
    "    x    = 0.5*(x_lo + x_hi)\n",
    "\n",
    "    d = h_wy[k]       # data from bin with index k\n",
    "    y = d[0] / st     # first part of bin is collected weights\n",
    "    y = y * norm\n",
    "    X.append(x)\n",
    "    Y.append(y)\n",
    "    W.append(st)\n",
    "    sum += y*st\n",
    "\n",
    "print(\"PDF normalization: {0}\".format(sum))\n",
    "\n",
    "p1 = plt.bar(X, Y, W, color='g')\n",
    "\n",
    "plt.xlabel('WY')\n",
    "plt.ylabel('PDF of the photons')\n",
    "plt.title('Angular Y distribution')\n",
    "\n",
    "plt.grid(True);\n",
    "plt.tick_params(axis='x', direction='out')\n",
    "plt.tick_params(axis='y', direction='out')\n",
    "\n",
    "plt.show()"
   ]
  },
  {
   "cell_type": "markdown",
   "metadata": {},
   "source": [
    "*We find photon angular distribution to be consistent with the collimation setup*"
   ]
  },
  {
   "cell_type": "markdown",
   "metadata": {},
   "source": [
    "## Conclusion"
   ]
  },
  {
   "cell_type": "markdown",
   "metadata": {},
   "source": [
    "*After plotting and analyzing photons energy, spatial and angular distribution, we could conclude that it is consistent with simulation Co60 source, sending particles through collimation system of 25mm collimation spot at 360mm isocenter.*"
   ]
  }
 ],
 "metadata": {
  "kernelspec": {
   "display_name": "Python 3",
   "language": "python",
   "name": "python3"
  },
  "language_info": {
   "codemirror_mode": {
    "name": "ipython",
    "version": 3
   },
   "file_extension": ".py",
   "mimetype": "text/x-python",
   "name": "python",
   "nbconvert_exporter": "python",
   "pygments_lexer": "ipython3",
   "version": "3.7.3"
  }
 },
 "nbformat": 4,
 "nbformat_minor": 2
}
